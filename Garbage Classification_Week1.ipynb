{
 "cells": [
  {
   "cell_type": "code",
   "execution_count": 22,
   "id": "cd822c24",
   "metadata": {},
   "outputs": [],
   "source": [
    "import numpy as np #For arrays and calculations\n",
    "import matplotlib.pyplot as plt #For data visualisation and plottings\n",
    "import seaborn as sns #For statistical data visualisation\n",
    "import tensorflow as tf #For core library for machine learning and deep learning\n",
    "from tensorflow import keras #For better model building \n",
    "from tensorflow.keras import Layer #For creating custom layers\n",
    "from tensorflow.keras.models import Sequential #For building neural network layer by layer \n",
    "from tensorflow.keras.layers import Rescaling, GlobalAveragePooling2D #For normalizing of pixel values and converting 2D parameters into 1D vector\n",
    "from tensorflow.keras import layers, optimizers, callbacks #Imports for layering, optimizers and callbacks in keras\n",
    "from sklearn.utils.class_weight import compute_class_weight #Importings function for computing class weights\n",
    "from tensorflow.keras.applications import EfficientNetV2B2 #Our main pre-trained model used for transfer learning\n",
    "from sklearn.metrics import confusion_matrix, classification_report #Importing functions for evaluating model performance\n",
    "import gradio as gr #For creating interactive interface for our machine learning model"
   ]
  },
  {
   "cell_type": "code",
   "execution_count": 23,
   "id": "5c793652",
   "metadata": {},
   "outputs": [
    {
     "name": "stdout",
     "output_type": "stream",
     "text": [
      "Found 2527 files belonging to 6 classes.\n",
      "Using 2022 files for training.\n"
     ]
    }
   ],
   "source": [
    "#Loading of training data with specified parameters\n",
    "train_ds = tf.keras.utils.image_dataset_from_directory(\n",
    "r\"D:\\Paresh\\Shell Internship\\Data set\\archive\\TrashType_Image_Dataset\",\n",
    "validation_split = 0.2,\n",
    "subset = 'training',\n",
    "seed = 42,\n",
    "shuffle = True,\n",
    "image_size = (124,124),\n",
    "batch_size = 32\n",
    ")"
   ]
  },
  {
   "cell_type": "code",
   "execution_count": 29,
   "id": "867676db",
   "metadata": {},
   "outputs": [
    {
     "name": "stdout",
     "output_type": "stream",
     "text": [
      "Found 2527 files belonging to 6 classes.\n",
      "Using 505 files for validation.\n"
     ]
    }
   ],
   "source": [
    "#Loading of validation data with specified parameters\n",
    "val_ds = tf.keras.utils.image_dataset_from_directory(\n",
    "r\"D:\\Paresh\\Shell Internship\\Data set\\archive\\TrashType_Image_Dataset\",\n",
    "validation_split = 0.2,\n",
    "subset = 'validation',\n",
    "seed = 42, \n",
    "shuffle = True,\n",
    "image_size = (124,124),\n",
    "batch_size = 32\n",
    ")\n",
    "\n",
    "val_class = val_ds.class_names"
   ]
  },
  {
   "cell_type": "code",
   "execution_count": 10,
   "id": "47749a04",
   "metadata": {},
   "outputs": [
    {
     "data": {
      "text/plain": [
       "['_GeneratorState',\n",
       " '__abstractmethods__',\n",
       " '__bool__',\n",
       " '__class__',\n",
       " '__class_getitem__',\n",
       " '__debug_string__',\n",
       " '__delattr__',\n",
       " '__dict__',\n",
       " '__dir__',\n",
       " '__doc__',\n",
       " '__eq__',\n",
       " '__format__',\n",
       " '__ge__',\n",
       " '__getattribute__',\n",
       " '__gt__',\n",
       " '__hash__',\n",
       " '__init__',\n",
       " '__init_subclass__',\n",
       " '__iter__',\n",
       " '__le__',\n",
       " '__len__',\n",
       " '__lt__',\n",
       " '__module__',\n",
       " '__ne__',\n",
       " '__new__',\n",
       " '__nonzero__',\n",
       " '__reduce__',\n",
       " '__reduce_ex__',\n",
       " '__repr__',\n",
       " '__setattr__',\n",
       " '__sizeof__',\n",
       " '__slots__',\n",
       " '__str__',\n",
       " '__subclasshook__',\n",
       " '__tf_tracing_type__',\n",
       " '__weakref__',\n",
       " '_abc_impl',\n",
       " '_add_trackable_child',\n",
       " '_add_variable_with_custom_getter',\n",
       " '_apply_debug_options',\n",
       " '_as_serialized_graph',\n",
       " '_buffer_size',\n",
       " '_checkpoint_adapter',\n",
       " '_checkpoint_dependencies',\n",
       " '_common_args',\n",
       " '_consumers',\n",
       " '_convert_variables_to_tensors',\n",
       " '_copy_trackable_to_cpu',\n",
       " '_deferred_dependencies',\n",
       " '_deserialization_dependencies',\n",
       " '_deserialize_from_proto',\n",
       " '_export_to_saved_model_graph',\n",
       " '_flat_shapes',\n",
       " '_flat_structure',\n",
       " '_flat_types',\n",
       " '_functions',\n",
       " '_gather_saveables_for_checkpoint',\n",
       " '_graph',\n",
       " '_graph_attr',\n",
       " '_handle_deferred_dependencies',\n",
       " '_input_dataset',\n",
       " '_inputs',\n",
       " '_lookup_dependency',\n",
       " '_maybe_initialize_trackable',\n",
       " '_maybe_track_assets',\n",
       " '_metadata',\n",
       " '_name',\n",
       " '_name_based_attribute_restore',\n",
       " '_name_based_restores',\n",
       " '_no_dependency',\n",
       " '_object_identifier',\n",
       " '_options',\n",
       " '_options_attr',\n",
       " '_options_tensor_to_options',\n",
       " '_preload_simple_restoration',\n",
       " '_restore_from_tensors',\n",
       " '_serialize_to_proto',\n",
       " '_serialize_to_tensors',\n",
       " '_setattr_tracking',\n",
       " '_shape_invariant_to_type_spec',\n",
       " '_tf_api_names',\n",
       " '_tf_api_names_v1',\n",
       " '_trace_variant_creation',\n",
       " '_track_trackable',\n",
       " '_trackable_children',\n",
       " '_type_spec',\n",
       " '_unconditional_checkpoint_dependencies',\n",
       " '_unconditional_dependency_names',\n",
       " '_update_uid',\n",
       " '_variant_tensor',\n",
       " '_variant_tensor_attr',\n",
       " 'apply',\n",
       " 'as_numpy_iterator',\n",
       " 'batch',\n",
       " 'bucket_by_sequence_length',\n",
       " 'cache',\n",
       " 'cardinality',\n",
       " 'choose_from_datasets',\n",
       " 'class_names',\n",
       " 'concatenate',\n",
       " 'counter',\n",
       " 'element_spec',\n",
       " 'enumerate',\n",
       " 'file_paths',\n",
       " 'filter',\n",
       " 'fingerprint',\n",
       " 'flat_map',\n",
       " 'from_generator',\n",
       " 'from_tensor_slices',\n",
       " 'from_tensors',\n",
       " 'get_single_element',\n",
       " 'group_by_window',\n",
       " 'ignore_errors',\n",
       " 'interleave',\n",
       " 'list_files',\n",
       " 'load',\n",
       " 'map',\n",
       " 'options',\n",
       " 'padded_batch',\n",
       " 'prefetch',\n",
       " 'ragged_batch',\n",
       " 'random',\n",
       " 'range',\n",
       " 'rebatch',\n",
       " 'reduce',\n",
       " 'rejection_resample',\n",
       " 'repeat',\n",
       " 'sample_from_datasets',\n",
       " 'save',\n",
       " 'scan',\n",
       " 'shard',\n",
       " 'shuffle',\n",
       " 'skip',\n",
       " 'snapshot',\n",
       " 'sparse_batch',\n",
       " 'take',\n",
       " 'take_while',\n",
       " 'unbatch',\n",
       " 'unique',\n",
       " 'window',\n",
       " 'with_options',\n",
       " 'zip']"
      ]
     },
     "execution_count": 10,
     "metadata": {},
     "output_type": "execute_result"
    }
   ],
   "source": [
    "dir(train_ds)"
   ]
  },
  {
   "cell_type": "code",
   "execution_count": 27,
   "id": "0a37cdef",
   "metadata": {},
   "outputs": [],
   "source": [
    "val_batches = tf.data.experimental.cardinality(val_ds)     #Total no. of batches in val_ds\n",
    "\n",
    "#Splitting of val_ds into test data and validation data\n",
    "test_ds = val_ds.take(val_batches // 2)\n",
    "val_data = val_ds.skip(val_batches // 2)\n",
    "\n",
    "# #Optimizing the test dataset by caching and prefetching \n",
    "test_ds_eval = test_ds.cache().prefetch(tf.data.AUTOTUNE)"
   ]
  },
  {
   "cell_type": "code",
   "execution_count": 31,
   "id": "34ff9a85",
   "metadata": {},
   "outputs": [
    {
     "name": "stdout",
     "output_type": "stream",
     "text": [
      "['cardboard', 'glass', 'metal', 'paper', 'plastic', 'trash']\n",
      "['cardboard', 'glass', 'metal', 'paper', 'plastic', 'trash']\n",
      "6\n"
     ]
    }
   ],
   "source": [
    "#Checking if the classes are correct for the datasets\n",
    "print(train_ds.class_names)\n",
    "print(val_class)\n",
    "print(len(train_ds.class_names))"
   ]
  },
  {
   "cell_type": "code",
   "execution_count": null,
   "id": "cbbf8ad5",
   "metadata": {},
   "outputs": [],
   "source": []
  }
 ],
 "metadata": {
  "kernelspec": {
   "display_name": "Python (myenv)",
   "language": "python",
   "name": "myenv"
  },
  "language_info": {
   "codemirror_mode": {
    "name": "ipython",
    "version": 3
   },
   "file_extension": ".py",
   "mimetype": "text/x-python",
   "name": "python",
   "nbconvert_exporter": "python",
   "pygments_lexer": "ipython3",
   "version": "3.9.6"
  }
 },
 "nbformat": 4,
 "nbformat_minor": 5
}
